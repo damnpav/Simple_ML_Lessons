{
 "cells": [
  {
   "cell_type": "code",
   "execution_count": 2,
   "metadata": {},
   "outputs": [
    {
     "name": "stdout",
     "output_type": "stream",
     "text": [
      "     <TICKER> <PER>    <DATE>  <TIME>  <CLOSE>  <VOL>\n",
      "0        LNZL     D  20101001       0  1520.00     78\n",
      "1        LNZL     D  20101004       0  1517.00      1\n",
      "2        LNZL     D  20101005       0  1531.00      6\n",
      "3        LNZL     D  20101006       0  1550.00      6\n",
      "4        LNZL     D  20101007       0  1670.00     69\n",
      "5        LNZL     D  20101008       0  1515.00    520\n",
      "6        LNZL     D  20101011       0  1503.01     90\n",
      "7        LNZL     D  20101012       0  1517.99      1\n",
      "8        LNZL     D  20101013       0  1535.00    287\n",
      "9        LNZL     D  20101014       0  1580.08     10\n",
      "10       LNZL     D  20101015       0  1631.19    458\n",
      "11       LNZL     D  20101018       0  1639.85     13\n",
      "12       LNZL     D  20101019       0  1640.31     23\n",
      "13       LNZL     D  20101020       0  1623.82     57\n",
      "14       LNZL     D  20101021       0  1520.78     25\n",
      "15       LNZL     D  20101022       0  1639.88     55\n",
      "16       LNZL     D  20101025       0  1607.59      4\n",
      "17       LNZL     D  20101026       0  1605.00      7\n",
      "18       LNZL     D  20101027       0  1606.00      3\n",
      "19       LNZL     D  20101028       0  1639.90     20\n",
      "20       LNZL     D  20101029       0  1609.15     22\n",
      "21       LNZL     D  20101101       0  1639.92     31\n",
      "22       LNZL     D  20101102       0  1778.00     72\n",
      "23       LNZL     D  20101103       0  1805.56     12\n",
      "24       LNZL     D  20101108       0  1742.95     93\n",
      "25       LNZL     D  20101109       0  1800.00    307\n",
      "26       LNZL     D  20101110       0  1814.51     21\n",
      "27       LNZL     D  20101111       0  1796.55      6\n",
      "28       LNZL     D  20101112       0  1778.76      1\n",
      "29       LNZL     D  20101116       0  1796.47      5\n",
      "...       ...   ...       ...     ...      ...    ...\n",
      "1723     LNZL     D  20170822       0  7570.00    102\n",
      "1724     LNZL     D  20170823       0  7500.00    159\n",
      "1725     LNZL     D  20170824       0  7500.00    757\n",
      "1726     LNZL     D  20170825       0  6790.00   1123\n",
      "1727     LNZL     D  20170828       0  6800.00    582\n",
      "1728     LNZL     D  20170829       0  6890.00    112\n",
      "1729     LNZL     D  20170830       0  6760.00    223\n",
      "1730     LNZL     D  20170831       0  6770.00     62\n",
      "1731     LNZL     D  20170901       0  6800.00     35\n",
      "1732     LNZL     D  20170904       0  6830.00     39\n",
      "1733     LNZL     D  20170905       0  6800.00     24\n",
      "1734     LNZL     D  20170906       0  6730.00     79\n",
      "1735     LNZL     D  20170907       0  6850.00    209\n",
      "1736     LNZL     D  20170908       0  6850.00     57\n",
      "1737     LNZL     D  20170911       0  6720.00    251\n",
      "1738     LNZL     D  20170912       0  6640.00    367\n",
      "1739     LNZL     D  20170913       0  6630.00     56\n",
      "1740     LNZL     D  20170914       0  6630.00     17\n",
      "1741     LNZL     D  20170915       0  6630.00     12\n",
      "1742     LNZL     D  20170918       0  6790.00    111\n",
      "1743     LNZL     D  20170919       0  6710.00     36\n",
      "1744     LNZL     D  20170920       0  6680.00    107\n",
      "1745     LNZL     D  20170921       0  6660.00     94\n",
      "1746     LNZL     D  20170922       0  6640.00     15\n",
      "1747     LNZL     D  20170925       0  6720.00    143\n",
      "1748     LNZL     D  20170926       0  6700.00     22\n",
      "1749     LNZL     D  20170927       0  6760.00     17\n",
      "1750     LNZL     D  20170928       0  7280.00    592\n",
      "1751     LNZL     D  20170929       0  7200.00    105\n",
      "1752     LNZL     D  20171002       0  7150.00     21\n",
      "\n",
      "[1753 rows x 6 columns]\n"
     ]
    }
   ],
   "source": [
    "import pandas as pd\n",
    "import csv\n",
    "\n",
    "f = open(\"LNZL_101001_171001.txt\")\n",
    "reader = csv.reader(f)\n",
    "\n",
    "lnzl_df = pd.read_csv(\"LNZL_101001_171001.txt\")\n",
    "print (lnzl_df)"
   ]
  },
  {
   "cell_type": "code",
   "execution_count": 3,
   "metadata": {},
   "outputs": [
    {
     "name": "stdout",
     "output_type": "stream",
     "text": [
      "     <TICKER> <PER>    <DATE>  <TIME>  <CLOSE>    <VOL>\n",
      "0        LKOH     D  20101001       0  1749.00  1823905\n",
      "1        LKOH     D  20101004       0  1740.01  1286354\n",
      "2        LKOH     D  20101005       0  1754.10  1445622\n",
      "3        LKOH     D  20101006       0  1760.58  1880001\n",
      "4        LKOH     D  20101007       0  1742.95  1042367\n",
      "5        LKOH     D  20101008       0  1728.50  1461084\n",
      "6        LKOH     D  20101011       0  1750.00   964259\n",
      "7        LKOH     D  20101012       0  1757.50  1158977\n",
      "8        LKOH     D  20101013       0  1785.00  1956565\n",
      "9        LKOH     D  20101014       0  1797.00  1287925\n",
      "10       LKOH     D  20101015       0  1785.00  2894117\n",
      "11       LKOH     D  20101018       0  1780.10  1496634\n",
      "12       LKOH     D  20101019       0  1751.13  1544703\n",
      "13       LKOH     D  20101020       0  1745.81  1322673\n",
      "14       LKOH     D  20101021       0  1758.49  1768720\n",
      "15       LKOH     D  20101022       0  1735.00  1506662\n",
      "16       LKOH     D  20101025       0  1740.73   972103\n",
      "17       LKOH     D  20101026       0  1740.85  1067033\n",
      "18       LKOH     D  20101027       0  1730.99  1263633\n",
      "19       LKOH     D  20101028       0  1709.05  1385073\n",
      "20       LKOH     D  20101029       0  1734.13  1052034\n",
      "21       LKOH     D  20101101       0  1750.00  1288236\n",
      "22       LKOH     D  20101102       0  1758.00   836752\n",
      "23       LKOH     D  20101103       0  1754.88  1279474\n",
      "24       LKOH     D  20101108       0  1772.00  1164373\n",
      "25       LKOH     D  20101109       0  1800.00  1609534\n",
      "26       LKOH     D  20101110       0  1769.07  1210973\n",
      "27       LKOH     D  20101111       0  1756.00  1024633\n",
      "28       LKOH     D  20101112       0  1741.54  1275747\n",
      "29       LKOH     D  20101113       0  1731.10   378176\n",
      "...       ...   ...       ...     ...      ...      ...\n",
      "1728     LKOH     D  20170822       0  2897.00   510913\n",
      "1729     LKOH     D  20170823       0  2893.50   439925\n",
      "1730     LKOH     D  20170824       0  2894.00   318780\n",
      "1731     LKOH     D  20170825       0  2915.00   304391\n",
      "1732     LKOH     D  20170828       0  2920.00   347340\n",
      "1733     LKOH     D  20170829       0  2894.00   651355\n",
      "1734     LKOH     D  20170830       0  2905.00   582586\n",
      "1735     LKOH     D  20170831       0  2940.50   913525\n",
      "1736     LKOH     D  20170901       0  2915.00   440247\n",
      "1737     LKOH     D  20170904       0  2895.00   380637\n",
      "1738     LKOH     D  20170905       0  2883.50   527561\n",
      "1739     LKOH     D  20170906       0  2919.00   760652\n",
      "1740     LKOH     D  20170907       0  2876.00   553963\n",
      "1741     LKOH     D  20170908       0  2925.00   534565\n",
      "1742     LKOH     D  20170911       0  2909.00   462770\n",
      "1743     LKOH     D  20170912       0  2961.50   454463\n",
      "1744     LKOH     D  20170913       0  2938.00   809181\n",
      "1745     LKOH     D  20170914       0  2970.00   693394\n",
      "1746     LKOH     D  20170915       0  2978.50  1095373\n",
      "1747     LKOH     D  20170918       0  3032.50  1399635\n",
      "1748     LKOH     D  20170919       0  3025.00   625622\n",
      "1749     LKOH     D  20170920       0  2985.00   882194\n",
      "1750     LKOH     D  20170921       0  2991.50   871071\n",
      "1751     LKOH     D  20170922       0  2970.00   778805\n",
      "1752     LKOH     D  20170925       0  3039.50   818524\n",
      "1753     LKOH     D  20170926       0  3022.00   663597\n",
      "1754     LKOH     D  20170927       0  3064.50   557970\n",
      "1755     LKOH     D  20170928       0  3065.00   546934\n",
      "1756     LKOH     D  20170929       0  3064.00   429131\n",
      "1757     LKOH     D  20171002       0  3044.50   402679\n",
      "\n",
      "[1758 rows x 6 columns]\n"
     ]
    }
   ],
   "source": [
    "lkoh_df = pd.read_csv(\"LKOH_101001_171001.txt\")\n",
    "print (lkoh_df)"
   ]
  },
  {
   "cell_type": "code",
   "execution_count": 4,
   "metadata": {},
   "outputs": [
    {
     "name": "stdout",
     "output_type": "stream",
     "text": [
      "    <TICKER> <PER>    <DATE>  <TIME>  <CLOSE>  <VOL>\n",
      "0       QIWI     D  20131008       0   1340.0    630\n",
      "1       QIWI     D  20131009       0   1350.0    127\n",
      "2       QIWI     D  20131010       0   1310.0     49\n",
      "3       QIWI     D  20131011       0   1304.8      2\n",
      "4       QIWI     D  20131014       0   1310.0      4\n",
      "5       QIWI     D  20131015       0   1350.0     75\n",
      "6       QIWI     D  20131016       0   1304.4     51\n",
      "7       QIWI     D  20131018       0   1350.0      1\n",
      "8       QIWI     D  20131021       0   1363.5      2\n",
      "9       QIWI     D  20131024       0   1372.0     38\n",
      "10      QIWI     D  20131025       0   1920.0      7\n",
      "11      QIWI     D  20131028       0   1450.0    420\n",
      "12      QIWI     D  20131029       0   1450.0      3\n",
      "13      QIWI     D  20131030       0   1499.6   1150\n",
      "14      QIWI     D  20131031       0   1400.0   1057\n",
      "15      QIWI     D  20131101       0   1384.4   1206\n",
      "16      QIWI     D  20131105       0   1450.0   1009\n",
      "17      QIWI     D  20131106       0   1500.0   1423\n",
      "18      QIWI     D  20131107       0   1455.9   1207\n",
      "19      QIWI     D  20131108       0   1489.9   1033\n",
      "20      QIWI     D  20131111       0   1435.0   1259\n",
      "21      QIWI     D  20131112       0   1414.1   1200\n",
      "22      QIWI     D  20131113       0   1367.7   1494\n",
      "23      QIWI     D  20131114       0   1375.0     64\n",
      "24      QIWI     D  20131115       0   1377.0    208\n",
      "25      QIWI     D  20131118       0   1351.0   1011\n",
      "26      QIWI     D  20131119       0   1400.0   1045\n",
      "27      QIWI     D  20131120       0   1550.0   1113\n",
      "28      QIWI     D  20131121       0   1550.0   1088\n",
      "29      QIWI     D  20131122       0   1500.0   1125\n",
      "..       ...   ...       ...     ...      ...    ...\n",
      "962     QIWI     D  20170822       0   1045.0   3126\n",
      "963     QIWI     D  20170823       0   1040.0    614\n",
      "964     QIWI     D  20170824       0   1040.0   4018\n",
      "965     QIWI     D  20170825       0    970.0   8683\n",
      "966     QIWI     D  20170828       0    976.0   8187\n",
      "967     QIWI     D  20170829       0    950.0   5495\n",
      "968     QIWI     D  20170830       0    933.0   3684\n",
      "969     QIWI     D  20170831       0    974.0   3494\n",
      "970     QIWI     D  20170901       0    944.0   4288\n",
      "971     QIWI     D  20170904       0    959.0   3399\n",
      "972     QIWI     D  20170905       0    920.0   5320\n",
      "973     QIWI     D  20170906       0    936.0   4504\n",
      "974     QIWI     D  20170907       0    963.0   3976\n",
      "975     QIWI     D  20170908       0   1000.0   5832\n",
      "976     QIWI     D  20170911       0   1035.0   9667\n",
      "977     QIWI     D  20170912       0   1040.0   6635\n",
      "978     QIWI     D  20170913       0   1046.0   7666\n",
      "979     QIWI     D  20170914       0   1020.0   4940\n",
      "980     QIWI     D  20170915       0    991.0   2011\n",
      "981     QIWI     D  20170918       0   1008.0    680\n",
      "982     QIWI     D  20170919       0   1039.0   8523\n",
      "983     QIWI     D  20170920       0   1031.0    942\n",
      "984     QIWI     D  20170921       0   1007.0   2516\n",
      "985     QIWI     D  20170922       0   1035.0   1319\n",
      "986     QIWI     D  20170925       0    990.0   8655\n",
      "987     QIWI     D  20170926       0    960.0   7976\n",
      "988     QIWI     D  20170927       0    946.0   9412\n",
      "989     QIWI     D  20170928       0    957.0   3322\n",
      "990     QIWI     D  20170929       0    970.0   2629\n",
      "991     QIWI     D  20171002       0    946.0  18516\n",
      "\n",
      "[992 rows x 6 columns]\n"
     ]
    }
   ],
   "source": [
    "qiwi_df = pd.read_csv(\"QIWI_101001_171001.txt\")\n",
    "print (qiwi_df)"
   ]
  },
  {
   "cell_type": "code",
   "execution_count": 5,
   "metadata": {},
   "outputs": [
    {
     "data": {
      "text/plain": [
       "0      20131008\n",
       "1      20131009\n",
       "2      20131010\n",
       "3      20131011\n",
       "4      20131014\n",
       "5      20131015\n",
       "6      20131016\n",
       "7      20131018\n",
       "8      20131021\n",
       "9      20131024\n",
       "10     20131025\n",
       "11     20131028\n",
       "12     20131029\n",
       "13     20131030\n",
       "14     20131031\n",
       "15     20131101\n",
       "16     20131105\n",
       "17     20131106\n",
       "18     20131107\n",
       "19     20131108\n",
       "20     20131111\n",
       "21     20131112\n",
       "22     20131113\n",
       "23     20131114\n",
       "24     20131115\n",
       "25     20131118\n",
       "26     20131119\n",
       "27     20131120\n",
       "28     20131121\n",
       "29     20131122\n",
       "         ...   \n",
       "962    20170822\n",
       "963    20170823\n",
       "964    20170824\n",
       "965    20170825\n",
       "966    20170828\n",
       "967    20170829\n",
       "968    20170830\n",
       "969    20170831\n",
       "970    20170901\n",
       "971    20170904\n",
       "972    20170905\n",
       "973    20170906\n",
       "974    20170907\n",
       "975    20170908\n",
       "976    20170911\n",
       "977    20170912\n",
       "978    20170913\n",
       "979    20170914\n",
       "980    20170915\n",
       "981    20170918\n",
       "982    20170919\n",
       "983    20170920\n",
       "984    20170921\n",
       "985    20170922\n",
       "986    20170925\n",
       "987    20170926\n",
       "988    20170927\n",
       "989    20170928\n",
       "990    20170929\n",
       "991    20171002\n",
       "Name: <DATE>, Length: 992, dtype: int64"
      ]
     },
     "execution_count": 5,
     "metadata": {},
     "output_type": "execute_result"
    }
   ],
   "source": [
    "qiwi_df[\"<DATE>\"]"
   ]
  },
  {
   "cell_type": "code",
   "execution_count": 6,
   "metadata": {},
   "outputs": [
    {
     "data": {
      "text/plain": [
       "0      1340.0\n",
       "1      1350.0\n",
       "2      1310.0\n",
       "3      1304.8\n",
       "4      1310.0\n",
       "5      1350.0\n",
       "6      1304.4\n",
       "7      1350.0\n",
       "8      1363.5\n",
       "9      1372.0\n",
       "10     1920.0\n",
       "11     1450.0\n",
       "12     1450.0\n",
       "13     1499.6\n",
       "14     1400.0\n",
       "15     1384.4\n",
       "16     1450.0\n",
       "17     1500.0\n",
       "18     1455.9\n",
       "19     1489.9\n",
       "20     1435.0\n",
       "21     1414.1\n",
       "22     1367.7\n",
       "23     1375.0\n",
       "24     1377.0\n",
       "25     1351.0\n",
       "26     1400.0\n",
       "27     1550.0\n",
       "28     1550.0\n",
       "29     1500.0\n",
       "        ...  \n",
       "962    1045.0\n",
       "963    1040.0\n",
       "964    1040.0\n",
       "965     970.0\n",
       "966     976.0\n",
       "967     950.0\n",
       "968     933.0\n",
       "969     974.0\n",
       "970     944.0\n",
       "971     959.0\n",
       "972     920.0\n",
       "973     936.0\n",
       "974     963.0\n",
       "975    1000.0\n",
       "976    1035.0\n",
       "977    1040.0\n",
       "978    1046.0\n",
       "979    1020.0\n",
       "980     991.0\n",
       "981    1008.0\n",
       "982    1039.0\n",
       "983    1031.0\n",
       "984    1007.0\n",
       "985    1035.0\n",
       "986     990.0\n",
       "987     960.0\n",
       "988     946.0\n",
       "989     957.0\n",
       "990     970.0\n",
       "991     946.0\n",
       "Name: <CLOSE>, Length: 992, dtype: float64"
      ]
     },
     "execution_count": 6,
     "metadata": {},
     "output_type": "execute_result"
    }
   ],
   "source": [
    "qiwi_df[\"<CLOSE>\"]"
   ]
  },
  {
   "cell_type": "code",
   "execution_count": 7,
   "metadata": {},
   "outputs": [
    {
     "data": {
      "text/plain": [
       "4202771"
      ]
     },
     "execution_count": 7,
     "metadata": {},
     "output_type": "execute_result"
    }
   ],
   "source": [
    "qiwi_df[\"<VOL>\"].sum()"
   ]
  },
  {
   "cell_type": "code",
   "execution_count": 8,
   "metadata": {},
   "outputs": [
    {
     "data": {
      "text/plain": [
       "4236.664314516129"
      ]
     },
     "execution_count": 8,
     "metadata": {},
     "output_type": "execute_result"
    }
   ],
   "source": [
    "qiwi_df[\"<VOL>\"].sum()/len(qiwi_df)"
   ]
  },
  {
   "cell_type": "code",
   "execution_count": 10,
   "metadata": {},
   "outputs": [
    {
     "ename": "NameError",
     "evalue": "name 'qiwi_describe' is not defined",
     "output_type": "error",
     "traceback": [
      "\u001b[1;31m---------------------------------------------------------------------------\u001b[0m",
      "\u001b[1;31mNameError\u001b[0m                                 Traceback (most recent call last)",
      "\u001b[1;32m<ipython-input-10-bdf49c267a77>\u001b[0m in \u001b[0;36m<module>\u001b[1;34m()\u001b[0m\n\u001b[1;32m----> 1\u001b[1;33m \u001b[0mqiwi_describe\u001b[0m\u001b[1;33m\u001b[0m\u001b[0m\n\u001b[0m",
      "\u001b[1;31mNameError\u001b[0m: name 'qiwi_describe' is not defined"
     ]
    }
   ],
   "source": [
    "qiwi_describe"
   ]
  },
  {
   "cell_type": "code",
   "execution_count": 11,
   "metadata": {},
   "outputs": [
    {
     "data": {
      "text/html": [
       "<div>\n",
       "<style>\n",
       "    .dataframe thead tr:only-child th {\n",
       "        text-align: right;\n",
       "    }\n",
       "\n",
       "    .dataframe thead th {\n",
       "        text-align: left;\n",
       "    }\n",
       "\n",
       "    .dataframe tbody tr th {\n",
       "        vertical-align: top;\n",
       "    }\n",
       "</style>\n",
       "<table border=\"1\" class=\"dataframe\">\n",
       "  <thead>\n",
       "    <tr style=\"text-align: right;\">\n",
       "      <th></th>\n",
       "      <th>&lt;DATE&gt;</th>\n",
       "      <th>&lt;TIME&gt;</th>\n",
       "      <th>&lt;CLOSE&gt;</th>\n",
       "      <th>&lt;VOL&gt;</th>\n",
       "    </tr>\n",
       "  </thead>\n",
       "  <tbody>\n",
       "    <tr>\n",
       "      <th>count</th>\n",
       "      <td>9.920000e+02</td>\n",
       "      <td>992.0</td>\n",
       "      <td>992.000000</td>\n",
       "      <td>992.000000</td>\n",
       "    </tr>\n",
       "    <tr>\n",
       "      <th>mean</th>\n",
       "      <td>2.015337e+07</td>\n",
       "      <td>0.0</td>\n",
       "      <td>1204.305141</td>\n",
       "      <td>4236.664315</td>\n",
       "    </tr>\n",
       "    <tr>\n",
       "      <th>std</th>\n",
       "      <td>1.184051e+04</td>\n",
       "      <td>0.0</td>\n",
       "      <td>281.809331</td>\n",
       "      <td>9085.296728</td>\n",
       "    </tr>\n",
       "    <tr>\n",
       "      <th>min</th>\n",
       "      <td>2.013101e+07</td>\n",
       "      <td>0.0</td>\n",
       "      <td>709.000000</td>\n",
       "      <td>1.000000</td>\n",
       "    </tr>\n",
       "    <tr>\n",
       "      <th>25%</th>\n",
       "      <td>2.014101e+07</td>\n",
       "      <td>0.0</td>\n",
       "      <td>955.000000</td>\n",
       "      <td>297.750000</td>\n",
       "    </tr>\n",
       "    <tr>\n",
       "      <th>50%</th>\n",
       "      <td>2.015101e+07</td>\n",
       "      <td>0.0</td>\n",
       "      <td>1235.000000</td>\n",
       "      <td>1302.500000</td>\n",
       "    </tr>\n",
       "    <tr>\n",
       "      <th>75%</th>\n",
       "      <td>2.016101e+07</td>\n",
       "      <td>0.0</td>\n",
       "      <td>1400.000000</td>\n",
       "      <td>4513.000000</td>\n",
       "    </tr>\n",
       "    <tr>\n",
       "      <th>max</th>\n",
       "      <td>2.017100e+07</td>\n",
       "      <td>0.0</td>\n",
       "      <td>2000.000000</td>\n",
       "      <td>155950.000000</td>\n",
       "    </tr>\n",
       "  </tbody>\n",
       "</table>\n",
       "</div>"
      ],
      "text/plain": [
       "             <DATE>  <TIME>      <CLOSE>          <VOL>\n",
       "count  9.920000e+02   992.0   992.000000     992.000000\n",
       "mean   2.015337e+07     0.0  1204.305141    4236.664315\n",
       "std    1.184051e+04     0.0   281.809331    9085.296728\n",
       "min    2.013101e+07     0.0   709.000000       1.000000\n",
       "25%    2.014101e+07     0.0   955.000000     297.750000\n",
       "50%    2.015101e+07     0.0  1235.000000    1302.500000\n",
       "75%    2.016101e+07     0.0  1400.000000    4513.000000\n",
       "max    2.017100e+07     0.0  2000.000000  155950.000000"
      ]
     },
     "execution_count": 11,
     "metadata": {},
     "output_type": "execute_result"
    }
   ],
   "source": [
    "qiwi_df.describe()"
   ]
  },
  {
   "cell_type": "code",
   "execution_count": 12,
   "metadata": {
    "collapsed": true
   },
   "outputs": [],
   "source": [
    "import matplotlib "
   ]
  },
  {
   "cell_type": "code",
   "execution_count": 25,
   "metadata": {},
   "outputs": [],
   "source": [
    "import pylab as pl"
   ]
  },
  {
   "cell_type": "code",
   "execution_count": 31,
   "metadata": {},
   "outputs": [
    {
     "data": {
      "image/png": "[encoded data removed]",
      "text/plain": [
       "<matplotlib.figure.Figure at 0x8ead7d0>"
      ]
     },
     "metadata": {},
     "output_type": "display_data"
    }
   ],
   "source": [
    "fig, ax1 = pl.subplots()\n",
    "ax2 = ax1.twinx()\n",
    "\n",
    "ax1.plot(qiwi_df[\"<CLOSE>\"], color = \"red\")\n",
    "ax2.plot(qiwi_df[\"<VOL>\"])\n",
    "pl.show()"
   ]
  },
  {
   "cell_type": "code",
   "execution_count": 32,
   "metadata": {},
   "outputs": [
    {
     "data": {
      "image/png": "[encoded data removed]",
      "text/plain": [
       "<matplotlib.figure.Figure at 0x8c9a530>"
      ]
     },
     "metadata": {},
     "output_type": "display_data"
    }
   ],
   "source": [
    "fig, ax1 = pl.subplots()\n",
    "ax2 = ax1.twinx()\n",
    "\n",
    "ax1.plot(lkoh_df[\"<CLOSE>\"], color = \"red\")\n",
    "ax2.plot(lkoh_df[\"<VOL>\"])\n",
    "pl.show()"
   ]
  },
  {
   "cell_type": "code",
   "execution_count": null,
   "metadata": {
    "collapsed": true
   },
   "outputs": [],
   "source": []
  },
  {
   "cell_type": "code",
   "execution_count": null,
   "metadata": {
    "collapsed": true
   },
   "outputs": [],
   "source": []
  }
 ],
 "metadata": {
  "kernelspec": {
   "display_name": "Python 3",
   "language": "python",
   "name": "python3"
  },
  "language_info": {
   "codemirror_mode": {
    "name": "ipython",
    "version": 3
   },
   "file_extension": ".py",
   "mimetype": "text/x-python",
   "name": "python",
   "nbconvert_exporter": "python",
   "pygments_lexer": "ipython3",
   "version": "3.6.2"
  }
 },
 "nbformat": 4,
 "nbformat_minor": 2
}
